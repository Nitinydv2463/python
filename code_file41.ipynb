{
  "cells": [
    {
      "cell_type": "code",
      "execution_count": null,
      "metadata": {
        "colab": {
          "base_uri": "https://localhost:8080/"
        },
        "id": "XXoxr6ozFRW5",
        "outputId": "bbec18ca-b990-4f37-bb11-50bdc30d9db7"
      },
      "outputs": [
        {
          "output_type": "stream",
          "name": "stdout",
          "text": [
            "Grade is A\n"
          ]
        }
      ],
      "source": [
        "# 1\n",
        "score = 85\n",
        "if score >= 80:\n",
        "    print(\"Grade is A\")\n",
        "elif score >= 80:\n",
        "    print(\"Grade is B\")\n",
        "elif score >= 70:\n",
        "    print(\"Grade is C\")\n",
        "else:\n",
        "    print(\"Grade is D\")\n"
      ]
    },
    {
      "cell_type": "code",
      "source": [
        "# 2\n",
        "my_list = [1, 2, 3, 4, 5]\n",
        "print(my_list[2])\n",
        "print(my_list[3:5])\n",
        "my_list[0] = 11\n",
        "print(my_list)"
      ],
      "metadata": {
        "colab": {
          "base_uri": "https://localhost:8080/"
        },
        "id": "G5Te0JciApFT",
        "outputId": "2a8322c0-16b4-4ff4-c9f4-d249828ce332"
      },
      "execution_count": null,
      "outputs": [
        {
          "output_type": "stream",
          "name": "stdout",
          "text": [
            "3\n",
            "[4, 5]\n",
            "[11, 2, 3, 4, 5]\n"
          ]
        }
      ]
    },
    {
      "cell_type": "code",
      "source": [
        "# 3\n",
        "num1 = 15\n",
        "num2 = 11\n",
        "\n",
        "add = num1 + num2\n",
        "print(\"The addition of num1 and num2 is:\", add)\n",
        "\n",
        "sub = num1 - num2\n",
        "print(\"The subtraction of num1 and num2 is:\", sub)\n",
        "\n",
        "mul = num1 * num2\n",
        "print(\"The multiplication of num1 and num2 is:\", mul)\n"
      ],
      "metadata": {
        "colab": {
          "base_uri": "https://localhost:8080/"
        },
        "id": "T4MN2KXeBAUY",
        "outputId": "3fd5203e-526f-47d8-947d-9ee903f4eb81"
      },
      "execution_count": null,
      "outputs": [
        {
          "output_type": "stream",
          "name": "stdout",
          "text": [
            "The addition of num1 and num2 is: 26\n",
            "The subtraction of num1 and num2 is: 4\n",
            "The multiplication of num1 and num2 is: 165\n"
          ]
        }
      ]
    },
    {
      "cell_type": "code",
      "source": [
        "# 4\n",
        "num1 = 11\n",
        "num2 = 24\n",
        "num3 = 63\n",
        "\n",
        "if (num1 >= num2) and (num1 >= num3):\n",
        "    largest = num1\n",
        "    print(\"Largest number is:\", largest)\n",
        "elif (num2 >= num1) and (num2 >= num3):\n",
        "    largest = num2\n",
        "    print(\"Largest number is:\", largest)\n",
        "else:\n",
        "    largest = num3\n",
        "    print(\"Largest number is:\", largest)"
      ],
      "metadata": {
        "colab": {
          "base_uri": "https://localhost:8080/"
        },
        "id": "hr7J3M01BSEg",
        "outputId": "0c66994d-1add-4496-fcfc-cd42f659a827"
      },
      "execution_count": null,
      "outputs": [
        {
          "output_type": "stream",
          "name": "stdout",
          "text": [
            "Largest number is: 63\n"
          ]
        }
      ]
    },
    {
      "cell_type": "code",
      "source": [
        "# 5\n",
        "\n",
        "def square(x):\n",
        "  return x**2\n",
        "\n",
        "def cube(x):\n",
        "  return x**2\n",
        "\n",
        "\n",
        "def transform(f,L):\n",
        "  output = []\n",
        "  for i in L:\n",
        "    output.append(f(i))\n",
        "\n",
        "  print(output)\n",
        "\n",
        "L = [1,2,3,4,5]\n",
        "\n",
        "transform(cube,L)"
      ],
      "metadata": {
        "colab": {
          "base_uri": "https://localhost:8080/"
        },
        "id": "u08goKIWB4JJ",
        "outputId": "ea8dbfbb-7d0d-46f7-8e67-a8ad54adbf81"
      },
      "execution_count": null,
      "outputs": [
        {
          "output_type": "stream",
          "name": "stdout",
          "text": [
            "[1, 4, 9, 16, 25]\n"
          ]
        }
      ]
    },
    {
      "cell_type": "code",
      "execution_count": null,
      "metadata": {
        "colab": {
          "base_uri": "https://localhost:8080/"
        },
        "id": "wpWvMm61JkbC",
        "outputId": "535a9d6b-e35d-4fd7-93c1-0cf3fcfd9b53"
      },
      "outputs": [
        {
          "output_type": "stream",
          "name": "stdout",
          "text": [
            "Select operation:\n",
            "1. Add\n",
            "2. Subtract\n",
            "3. Multiply\n",
            "4. Divide\n",
            "Enter choice (1/2/3/4): 3\n",
            "Enter first number: 5\n",
            "Enter second number: 6\n",
            "5.0 * 6.0 = 30.0\n"
          ]
        }
      ],
      "source": [
        "# 6\n",
        "def calculator():\n",
        "    print(\"Select operation:\")\n",
        "    print(\"1. Add\")\n",
        "    print(\"2. Subtract\")\n",
        "    print(\"3. Multiply\")\n",
        "    print(\"4. Divide\")\n",
        "\n",
        "    choice = input(\"Enter choice (1/2/3/4): \")\n",
        "\n",
        "    num1 = float(input(\"Enter first number: \"))\n",
        "    num2 = float(input(\"Enter second number: \"))\n",
        "\n",
        "    if choice == '1':\n",
        "        print(f\"{num1} + {num2} = {num1 + num2}\")\n",
        "    elif choice == '2':\n",
        "        print(f\"{num1} - {num2} = {num1 - num2}\")\n",
        "    elif choice == '3':\n",
        "        print(f\"{num1} * {num2} = {num1 * num2}\")\n",
        "    elif choice == '4':\n",
        "        if num2 != 0:\n",
        "            print(f\"{num1} / {num2} = {num1 / num2}\")\n",
        "        else:\n",
        "            print(\"Error! Division by zero.\")\n",
        "    else:\n",
        "        print(\"Invalid input\")\n",
        "\n",
        "calculator()\n"
      ]
    },
    {
      "cell_type": "code",
      "source": [
        "# 7\n",
        "class Person:\n",
        "    def __init__(self,name,age):\n",
        "        self.name=name\n",
        "        self.age=age\n",
        "\n",
        "    def introduce(self):\n",
        "        print(f\"Name is : {self.name}, and age is : {self.age}\")\n"
      ],
      "metadata": {
        "id": "O_1UnhASC9FE"
      },
      "execution_count": 15,
      "outputs": []
    },
    {
      "cell_type": "code",
      "execution_count": 16,
      "metadata": {
        "id": "mQUDd_NZLH_T",
        "colab": {
          "base_uri": "https://localhost:8080/"
        },
        "outputId": "245933ae-39d2-4b53-fd9d-ada45f1dfaef"
      },
      "outputs": [
        {
          "output_type": "stream",
          "name": "stdout",
          "text": [
            "Name is : nitin, and age is : 17\n"
          ]
        }
      ],
      "source": [
        "person1=Person(\"nitin\",\"17\")\n",
        "person1.introduce()\n"
      ]
    },
    {
      "cell_type": "code",
      "source": [
        "# 8\n",
        "import numpy as np\n",
        "\n",
        "arr = np.array([1, 2, 3, 4, 5, 6, 7, 8, 9, 10, 11, 12])\n",
        "\n",
        "newarr = arr.reshape(2, 3, 2)\n",
        "\n",
        "print(newarr)"
      ],
      "metadata": {
        "colab": {
          "base_uri": "https://localhost:8080/"
        },
        "id": "LDJ9ADhXDStb",
        "outputId": "072d4dcc-19fe-4549-b84a-203bd4bdbfa4"
      },
      "execution_count": 20,
      "outputs": [
        {
          "output_type": "stream",
          "name": "stdout",
          "text": [
            "[[[ 1  2]\n",
            "  [ 3  4]\n",
            "  [ 5  6]]\n",
            "\n",
            " [[ 7  8]\n",
            "  [ 9 10]\n",
            "  [11 12]]]\n"
          ]
        }
      ]
    },
    {
      "cell_type": "code",
      "source": [
        "# 9\n",
        "import numpy as np\n",
        "\n",
        "arr = np.array([1, 2, 3, 4, 5, 6, 7, 8,9,10,11,12,13,14,15,16,17,18,19,20])\n",
        "\n",
        "x = np.where(arr%2 == 0)\n",
        "\n",
        "print(x)"
      ],
      "metadata": {
        "colab": {
          "base_uri": "https://localhost:8080/"
        },
        "id": "EZ1Xj80pDqzP",
        "outputId": "7efc7788-a63c-469f-fb58-7bef569feff8"
      },
      "execution_count": 24,
      "outputs": [
        {
          "output_type": "stream",
          "name": "stdout",
          "text": [
            "(array([ 1,  3,  5,  7,  9, 11, 13, 15, 17, 19]),)\n"
          ]
        }
      ]
    },
    {
      "cell_type": "code",
      "source": [
        "# 10\n",
        "from numpy import random\n",
        "\n",
        "x = random.choice([3, 5, 7, 9], size=(4, 6))\n",
        "\n",
        "print(x)\n"
      ],
      "metadata": {
        "colab": {
          "base_uri": "https://localhost:8080/"
        },
        "id": "kQltI5U0D7GN",
        "outputId": "c77ac45d-89d1-4308-d586-e7eeb70ed8cb"
      },
      "execution_count": 27,
      "outputs": [
        {
          "output_type": "stream",
          "name": "stdout",
          "text": [
            "[[7 7 7 3 7 7]\n",
            " [5 3 5 7 7 9]\n",
            " [3 9 5 5 5 3]\n",
            " [5 7 3 3 7 5]]\n"
          ]
        }
      ]
    },
    {
      "cell_type": "code",
      "source": [
        "# 11\n",
        "import pandas as pd\n",
        "\n",
        "mydataset = {\n",
        "  'cars': [\"balano\", \"nano\", \"i20\"],\n",
        "  'passings': [3, 7, 3]\n",
        "}\n",
        "\n",
        "myvar = pd.DataFrame(mydataset)\n",
        "\n",
        "print(myvar)"
      ],
      "metadata": {
        "colab": {
          "base_uri": "https://localhost:8080/"
        },
        "id": "Z8yDaJAUdgxb",
        "outputId": "55a8385c-6a54-4b17-d8e2-96d4cccb00e7"
      },
      "execution_count": 45,
      "outputs": [
        {
          "output_type": "stream",
          "name": "stdout",
          "text": [
            "     cars  passings\n",
            "0  balano         3\n",
            "1    nano         7\n",
            "2     i20         3\n"
          ]
        }
      ]
    },
    {
      "cell_type": "code",
      "source": [
        "# 12\n",
        "for num in range(2, 17):\n",
        "    is_prime = True\n",
        "    for i in range(2, int(num ** 0.5) + 1):\n",
        "        if num % i == 0:\n",
        "            is_prime = False\n",
        "            break\n",
        "    if is_prime:\n",
        "        print(num, \"is a prime number\")\n",
        "    else:\n",
        "        print(num, \"is not a prime number\")"
      ],
      "metadata": {
        "colab": {
          "base_uri": "https://localhost:8080/"
        },
        "id": "Z60qi0Gtdm6U",
        "outputId": "96188861-40b2-47fd-8593-e1ffb8bdd77d"
      },
      "execution_count": 52,
      "outputs": [
        {
          "output_type": "stream",
          "name": "stdout",
          "text": [
            "2 is a prime number\n",
            "3 is a prime number\n",
            "4 is not a prime number\n",
            "5 is a prime number\n",
            "6 is not a prime number\n",
            "7 is a prime number\n",
            "8 is not a prime number\n",
            "9 is not a prime number\n",
            "10 is not a prime number\n",
            "11 is a prime number\n",
            "12 is not a prime number\n",
            "13 is a prime number\n",
            "14 is not a prime number\n",
            "15 is not a prime number\n",
            "16 is not a prime number\n"
          ]
        }
      ]
    },
    {
      "cell_type": "code",
      "source": [
        "# 13\n",
        "import numpy as np\n",
        "\n",
        "a = np.array(42)\n",
        "b = np.array([1, 2, 3, 4, 5])\n",
        "c = np.array([[1, 2, 3], [4, 5, 6]])\n",
        "d = np.array([[[1, 2, 3], [4, 5, 6]], [[1, 2, 3], [4, 5, 6]]])\n",
        "\n",
        "print(a.ndim)\n",
        "print(b.ndim)\n",
        "print(c.ndim)\n",
        "print(d.ndim)\n"
      ],
      "metadata": {
        "colab": {
          "base_uri": "https://localhost:8080/"
        },
        "id": "jeBlrn5UgIKc",
        "outputId": "1826f4f9-61a5-472f-feae-ef3fb784a15d"
      },
      "execution_count": 57,
      "outputs": [
        {
          "output_type": "stream",
          "name": "stdout",
          "text": [
            "0\n",
            "1\n",
            "2\n",
            "3\n"
          ]
        }
      ]
    },
    {
      "cell_type": "code",
      "source": [
        "# 14\n",
        "import numpy as np\n",
        "\n",
        "arr = np.array([11,22,33,44,55])\n",
        "\n",
        "filter_arr = []\n",
        "\n",
        "for element in arr:\n",
        "  if element > 22:\n",
        "    filter_arr.append(True)\n",
        "  else:\n",
        "    filter_arr.append(False)\n",
        "\n",
        "newarr = arr[filter_arr]\n",
        "\n",
        "print(filter_arr)\n",
        "print(newarr)\n"
      ],
      "metadata": {
        "colab": {
          "base_uri": "https://localhost:8080/"
        },
        "id": "RPFxaMXRkcPH",
        "outputId": "0ab2396f-8914-48b5-a4f9-2ccd37592471"
      },
      "execution_count": 59,
      "outputs": [
        {
          "output_type": "stream",
          "name": "stdout",
          "text": [
            "[False, False, True, True, True]\n",
            "[33 44 55]\n"
          ]
        }
      ]
    },
    {
      "cell_type": "code",
      "source": [
        "# 15\n",
        "!pip install pandas"
      ],
      "metadata": {
        "colab": {
          "base_uri": "https://localhost:8080/"
        },
        "id": "BW_nhdgCksSm",
        "outputId": "b66bc44e-529b-490a-f6a6-9241d05dcdca"
      },
      "execution_count": 60,
      "outputs": [
        {
          "output_type": "stream",
          "name": "stdout",
          "text": [
            "Requirement already satisfied: pandas in /usr/local/lib/python3.10/dist-packages (2.2.2)\n",
            "Requirement already satisfied: numpy>=1.22.4 in /usr/local/lib/python3.10/dist-packages (from pandas) (1.26.4)\n",
            "Requirement already satisfied: python-dateutil>=2.8.2 in /usr/local/lib/python3.10/dist-packages (from pandas) (2.8.2)\n",
            "Requirement already satisfied: pytz>=2020.1 in /usr/local/lib/python3.10/dist-packages (from pandas) (2024.2)\n",
            "Requirement already satisfied: tzdata>=2022.7 in /usr/local/lib/python3.10/dist-packages (from pandas) (2024.2)\n",
            "Requirement already satisfied: six>=1.5 in /usr/local/lib/python3.10/dist-packages (from python-dateutil>=2.8.2->pandas) (1.16.0)\n"
          ]
        }
      ]
    },
    {
      "cell_type": "code",
      "source": [
        "df = pd.read_csv('/content/covid_impact_on_work new.csv')"
      ],
      "metadata": {
        "id": "9_D2UmAnmDEm"
      },
      "execution_count": 61,
      "outputs": []
    },
    {
      "cell_type": "code",
      "source": [
        "print(df)"
      ],
      "metadata": {
        "colab": {
          "base_uri": "https://localhost:8080/"
        },
        "id": "aA433TNGmQ7f",
        "outputId": "b1ae6efe-32aa-43e5-c698-c79eeb0e9685"
      },
      "execution_count": 64,
      "outputs": [
        {
          "output_type": "stream",
          "name": "stdout",
          "text": [
            "     Stress_Level     Sector  Increased_Work_Hours  Work_From_Home  \\\n",
            "0             Low     Retail                     1               1   \n",
            "1             Low         IT                     1               1   \n",
            "2          Medium     Retail                     1               0   \n",
            "3          Medium  Education                     1               1   \n",
            "4          Medium  Education                     0               1   \n",
            "...           ...        ...                   ...             ...   \n",
            "9995       Medium         IT                     1               1   \n",
            "9996       Medium         IT                     0               0   \n",
            "9997          Low     Retail                     1               1   \n",
            "9998       Medium  Education                     1               1   \n",
            "9999       Medium     Retail                     0               0   \n",
            "\n",
            "        Hours_Worked_Per_Day        Meetings_Per_Day  Productivity_Change  \\\n",
            "0      6.392.393.639.805.820  26.845.944.014.488.700                    1   \n",
            "1      9.171.983.537.957.560  33.392.245.834.602.800                    1   \n",
            "2     10.612.560.951.456.400   2.218.332.712.302.110                    0   \n",
            "3      5.546.168.647.409.510   5.150.566.193.312.910                    0   \n",
            "4     11.424.615.456.733.800  31.211.255.258.841.200                    1   \n",
            "...                      ...                     ...                  ...   \n",
            "9995   7.961.822.499.528.110     228.385.715.074.039                    1   \n",
            "9996  10.917.085.531.320.900  36.214.061.959.290.800                    0   \n",
            "9997   1.017.621.058.520.080  10.396.886.350.092.200                    1   \n",
            "9998  11.903.972.863.377.200   3.756.724.961.448.690                    0   \n",
            "9999   8.443.284.185.945.760   4.225.793.569.107.430                    1   \n",
            "\n",
            "      Health_Issue  Job_Security  Childcare_Responsibilities  \\\n",
            "0                0             0                           1   \n",
            "1                0             1                           0   \n",
            "2                0             0                           0   \n",
            "3                0             0                           0   \n",
            "4                0             1                           1   \n",
            "...            ...           ...                         ...   \n",
            "9995             1             1                           1   \n",
            "9996             0             0                           1   \n",
            "9997             0             1                           0   \n",
            "9998             1             1                           0   \n",
            "9999             0             0                           0   \n",
            "\n",
            "      Commuting_Changes  Technology_Adaptation  Salary_Changes  \\\n",
            "0                     1                      1               0   \n",
            "1                     1                      1               0   \n",
            "2                     0                      0               0   \n",
            "3                     1                      0               0   \n",
            "4                     1                      0               1   \n",
            "...                 ...                    ...             ...   \n",
            "9995                  0                      0               0   \n",
            "9996                  0                      1               0   \n",
            "9997                  1                      1               1   \n",
            "9998                  1                      1               1   \n",
            "9999                  1                      1               0   \n",
            "\n",
            "      Team_Collaboration_Challenges  Affected_by_Covid  \n",
            "0                                 1                  1  \n",
            "1                                 1                  1  \n",
            "2                                 0                  1  \n",
            "3                                 0                  1  \n",
            "4                                 1                  1  \n",
            "...                             ...                ...  \n",
            "9995                              1                  1  \n",
            "9996                              0                  1  \n",
            "9997                              1                  1  \n",
            "9998                              1                  1  \n",
            "9999                              1                  1  \n",
            "\n",
            "[10000 rows x 15 columns]\n"
          ]
        }
      ]
    },
    {
      "cell_type": "code",
      "source": [
        "# 16\n",
        "!pip install pandas"
      ],
      "metadata": {
        "colab": {
          "base_uri": "https://localhost:8080/"
        },
        "id": "X_ntWVXsmbd2",
        "outputId": "4bd9cc16-905f-4732-dda9-0f5c6605762c"
      },
      "execution_count": 68,
      "outputs": [
        {
          "output_type": "stream",
          "name": "stdout",
          "text": [
            "Requirement already satisfied: pandas in /usr/local/lib/python3.10/dist-packages (2.2.2)\n",
            "Requirement already satisfied: numpy>=1.22.4 in /usr/local/lib/python3.10/dist-packages (from pandas) (1.26.4)\n",
            "Requirement already satisfied: python-dateutil>=2.8.2 in /usr/local/lib/python3.10/dist-packages (from pandas) (2.8.2)\n",
            "Requirement already satisfied: pytz>=2020.1 in /usr/local/lib/python3.10/dist-packages (from pandas) (2024.2)\n",
            "Requirement already satisfied: tzdata>=2022.7 in /usr/local/lib/python3.10/dist-packages (from pandas) (2024.2)\n",
            "Requirement already satisfied: six>=1.5 in /usr/local/lib/python3.10/dist-packages (from python-dateutil>=2.8.2->pandas) (1.16.0)\n"
          ]
        }
      ]
    },
    {
      "cell_type": "code",
      "source": [
        "df = pd.read_csv('/content/gym_members_exercise_tracking.csv')"
      ],
      "metadata": {
        "id": "6AOTU21dnGpp"
      },
      "execution_count": 69,
      "outputs": []
    },
    {
      "cell_type": "code",
      "source": [
        "print(df)"
      ],
      "metadata": {
        "colab": {
          "base_uri": "https://localhost:8080/"
        },
        "id": "DKX2XodqnOM3",
        "outputId": "ae48fdc2-1c97-4f4e-947e-0dda0959da10"
      },
      "execution_count": 70,
      "outputs": [
        {
          "output_type": "stream",
          "name": "stdout",
          "text": [
            "     Age  Gender  Weight (kg)  Height (m)  Max_BPM  Avg_BPM  Resting_BPM  \\\n",
            "0     56    Male         88.3        1.71      180      157           60   \n",
            "1     46  Female         74.9        1.53      179      151           66   \n",
            "2     32  Female         68.1        1.66      167      122           54   \n",
            "3     25    Male         53.2        1.70      190      164           56   \n",
            "4     38    Male         46.1        1.79      188      158           68   \n",
            "..   ...     ...          ...         ...      ...      ...          ...   \n",
            "968   24    Male         87.1        1.74      187      158           67   \n",
            "969   25    Male         66.6        1.61      184      166           56   \n",
            "970   59  Female         60.4        1.76      194      120           53   \n",
            "971   32    Male        126.4        1.83      198      146           62   \n",
            "972   46    Male         88.7        1.63      166      146           66   \n",
            "\n",
            "     Session_Duration (hours)  Calories_Burned Workout_Type  Fat_Percentage  \\\n",
            "0                        1.69           1313.0         Yoga            12.6   \n",
            "1                        1.30            883.0         HIIT            33.9   \n",
            "2                        1.11            677.0       Cardio            33.4   \n",
            "3                        0.59            532.0     Strength            28.8   \n",
            "4                        0.64            556.0     Strength            29.2   \n",
            "..                        ...              ...          ...             ...   \n",
            "968                      1.57           1364.0     Strength            10.0   \n",
            "969                      1.38           1260.0     Strength            25.0   \n",
            "970                      1.72            929.0       Cardio            18.8   \n",
            "971                      1.10            883.0         HIIT            28.2   \n",
            "972                      0.75            542.0     Strength            28.8   \n",
            "\n",
            "     Water_Intake (liters)  Workout_Frequency (days/week)  Experience_Level  \\\n",
            "0                      3.5                              4                 3   \n",
            "1                      2.1                              4                 2   \n",
            "2                      2.3                              4                 2   \n",
            "3                      2.1                              3                 1   \n",
            "4                      2.8                              3                 1   \n",
            "..                     ...                            ...               ...   \n",
            "968                    3.5                              4                 3   \n",
            "969                    3.0                              2                 1   \n",
            "970                    2.7                              5                 3   \n",
            "971                    2.1                              3                 2   \n",
            "972                    3.5                              2                 1   \n",
            "\n",
            "       BMI  \n",
            "0    30.20  \n",
            "1    32.00  \n",
            "2    24.71  \n",
            "3    18.41  \n",
            "4    14.39  \n",
            "..     ...  \n",
            "968  28.77  \n",
            "969  25.69  \n",
            "970  19.50  \n",
            "971  37.74  \n",
            "972  33.38  \n",
            "\n",
            "[973 rows x 15 columns]\n"
          ]
        }
      ]
    },
    {
      "cell_type": "code",
      "source": [],
      "metadata": {
        "id": "EkfwV0r1nROs"
      },
      "execution_count": null,
      "outputs": []
    }
  ],
  "metadata": {
    "colab": {
      "provenance": []
    },
    "kernelspec": {
      "display_name": "Python 3",
      "name": "python3"
    },
    "language_info": {
      "name": "python"
    }
  },
  "nbformat": 4,
  "nbformat_minor": 0
}